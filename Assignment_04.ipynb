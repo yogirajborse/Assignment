{
 "cells": [
  {
   "cell_type": "markdown",
   "id": "3837fe31",
   "metadata": {},
   "source": [
    "### Programe to make list of tuple."
   ]
  },
  {
   "cell_type": "code",
   "execution_count": 40,
   "id": "c1688d92",
   "metadata": {},
   "outputs": [
    {
     "data": {
      "text/plain": [
       "[(1, 1), (2, 4), (3, 9), (4, 16), (5, 25)]"
      ]
     },
     "execution_count": 40,
     "metadata": {},
     "output_type": "execute_result"
    }
   ],
   "source": [
    "L2=[]\n",
    "\n",
    "L1=[1,2,3,4,5]\n",
    "\n",
    "for y in L1:\n",
    "            a=(y,y*y,)\n",
    "            L2.append(a)\n",
    "     \n",
    "L2\n",
    "\n",
    "\n",
    "    \n",
    "    \n"
   ]
  }
 ],
 "metadata": {
  "kernelspec": {
   "display_name": "Python 3 (ipykernel)",
   "language": "python",
   "name": "python3"
  },
  "language_info": {
   "codemirror_mode": {
    "name": "ipython",
    "version": 3
   },
   "file_extension": ".py",
   "mimetype": "text/x-python",
   "name": "python",
   "nbconvert_exporter": "python",
   "pygments_lexer": "ipython3",
   "version": "3.10.1"
  }
 },
 "nbformat": 4,
 "nbformat_minor": 5
}
